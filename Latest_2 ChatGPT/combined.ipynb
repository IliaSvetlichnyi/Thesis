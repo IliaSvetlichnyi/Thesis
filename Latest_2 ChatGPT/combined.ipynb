{
 "cells": [
  {
   "cell_type": "code",
   "execution_count": 1,
   "metadata": {},
   "outputs": [
    {
     "name": "stderr",
     "output_type": "stream",
     "text": [
      "/Users/ilya/miniconda3/envs/thesis/lib/python3.10/site-packages/langchain_core/_api/deprecation.py:117: LangChainDeprecationWarning: The class `langchain_community.chat_models.openai.ChatOpenAI` was deprecated in langchain-community 0.0.10 and will be removed in 0.2.0. An updated version of the class exists in the langchain-openai package and should be used instead. To use it run `pip install -U langchain-openai` and import as `from langchain_openai import ChatOpenAI`.\n",
      "  warn_deprecated(\n"
     ]
    },
    {
     "name": "stdout",
     "output_type": "stream",
     "text": [
      "Generated code saved to generated_code.py\n"
     ]
    }
   ],
   "source": [
    "from langchain_core.messages import SystemMessage\n",
    "from langchain.chat_models import ChatOpenAI\n",
    "from langchain_core.prompts import ChatPromptTemplate\n",
    "from langchain_core.prompts import HumanMessagePromptTemplate\n",
    "import pandas as pd\n",
    "import os\n",
    "\n",
    "# Setup the prompt templates\n",
    "human_prompt = HumanMessagePromptTemplate.from_template(\"{request}\")\n",
    "chat_prompt = ChatPromptTemplate.from_messages([\n",
    "    (\"system\", \"You are a highly skilled data scientist with 20 years of experience. You specialize in writing clean, efficient, and error-free ML code. Generate only the code snippets without any explanations or comments.\"),\n",
    "    human_prompt\n",
    "])\n",
    "# Ensure reproducibility by setting a seed\n",
    "api_key = os.environ['OPENAI_API_KEY']\n",
    "model = ChatOpenAI(openai_api_key=api_key)\n",
    "\n",
    "# Function to generate code with LLM\n",
    "\n",
    "\n",
    "def generate_code(request):\n",
    "    formatted_request = chat_prompt.format_prompt(\n",
    "        request=request).to_messages()\n",
    "    response = model.invoke(formatted_request)\n",
    "    generated_code = response.content  # Extracting text content from the response\n",
    "    return generated_code\n",
    "\n",
    "# Function to clean and correct the code\n",
    "\n",
    "\n",
    "def clean_and_correct_code(generated_code, csv_path):\n",
    "    cleaned_code = generated_code.replace(\"```\", \"\").strip()\n",
    "    cleaned_code_lines = cleaned_code.split(\"\\n\")\n",
    "    cleaned_code_lines = [\n",
    "        line for line in cleaned_code_lines if not line.lower().startswith(\"here is the\")]\n",
    "    cleaned_code = \"\\n\".join(cleaned_code_lines)\n",
    "    if \"python\" in cleaned_code:\n",
    "        cleaned_code = cleaned_code.split(\"python\")[1].strip()\n",
    "    corrected_code = cleaned_code.replace(\"{csv_path}\", f\"{csv_path}\")\n",
    "    return corrected_code\n",
    "\n",
    "# Load dataset column names\n",
    "\n",
    "\n",
    "def get_dataset_info(csv_path):\n",
    "    df = pd.read_csv(csv_path)\n",
    "    columns = df.columns.tolist()\n",
    "    types = df.dtypes.to_dict()\n",
    "    sample_data = df.head().to_dict(orient='list')\n",
    "    description = df.describe().to_dict()\n",
    "    return columns, types, sample_data, description\n",
    "\n",
    "\n",
    "def main_part1():\n",
    "    csv_path = \"/Users/ilya/Desktop/GitHub_Repositories/HW_University/Data_Mining/datasets/insurance.csv\"\n",
    "    columns, types, sample_data, description = get_dataset_info(csv_path)\n",
    "\n",
    "    columns_info = \", \".join(columns)\n",
    "    types_info = \"; \".join([f\"{col}: {typ}\" for col, typ in types.items()])\n",
    "    sample_data_info = \"; \".join(\n",
    "        [f\"{col}: {vals[:5]}\" for col, vals in sample_data.items()])\n",
    "    description_info = \"; \".join(\n",
    "        [f\"{col}: {desc}\" for col, desc in description.items()])\n",
    "\n",
    "    request = (\n",
    "        f\"Write a Python code for reading a CSV file, handling missing values, encoding categorical variables, \"\n",
    "        f\"splitting the data into training and test sets, training an appropriate model, and evaluating the model's performance. \"\n",
    "        f\"Use placeholders like {csv_path} for dynamic inputs. The dataset has the following columns: {columns_info}. \"\n",
    "        f\"Data types: {types_info}. Sample data (first 5 rows): {sample_data_info}. Description: {description_info}. \"\n",
    "        f\"Only return the code without any explanations.\"\n",
    "    )\n",
    "\n",
    "    generated_code = generate_code(request)\n",
    "    corrected_code = clean_and_correct_code(generated_code, f\"{csv_path}\")\n",
    "\n",
    "    code_filename = \"generated_code.py\"\n",
    "    with open(code_filename, \"w\") as file:\n",
    "        file.write(corrected_code)\n",
    "\n",
    "    print(f\"Generated code saved to {code_filename}\")\n",
    "\n",
    "\n",
    "if __name__ == \"__main__\":\n",
    "    main_part1()"
   ]
  },
  {
   "cell_type": "code",
   "execution_count": 2,
   "metadata": {},
   "outputs": [
    {
     "name": "stdout",
     "output_type": "stream",
     "text": [
      "Code validated successfully. Output:\n",
      "Mean Squared Error: 20624113.046452865\n",
      "\n"
     ]
    }
   ],
   "source": [
    "import subprocess\n",
    "\n",
    "# Function to validate the code\n",
    "\n",
    "\n",
    "def validate_code(code_filename):\n",
    "    try:\n",
    "        result = subprocess.run(\n",
    "            [\"python\", code_filename], capture_output=True, text=True)\n",
    "        if result.returncode != 0:\n",
    "            raise Exception(result.stderr)\n",
    "        return True, result.stdout\n",
    "    except Exception as e:\n",
    "        return False, str(e)\n",
    "\n",
    "# Main function for Part 2\n",
    "\n",
    "\n",
    "def main_part2():\n",
    "    code_filename = \"generated_code.py\"\n",
    "    success, output = validate_code(code_filename)\n",
    "\n",
    "    if not success:\n",
    "        print(\"Code validation failed with error:\")\n",
    "        print(output)\n",
    "    else:\n",
    "        print(\"Code validated successfully. Output:\")\n",
    "        print(output)\n",
    "\n",
    "    return success, output\n",
    "\n",
    "\n",
    "if __name__ == \"__main__\":\n",
    "    success, output = main_part2()"
   ]
  },
  {
   "cell_type": "code",
   "execution_count": 3,
   "metadata": {},
   "outputs": [
    {
     "name": "stdout",
     "output_type": "stream",
     "text": [
      "Code validated successfully. Output:\n",
      "Mean Squared Error: 21108360.68260111\n",
      "\n",
      "No need to fix the code, it runs successfully.\n"
     ]
    }
   ],
   "source": [
    "# Main function for Part 3\n",
    "def main_part3():\n",
    "    csv_path = \"/Users/ilya/Desktop/GitHub_Repositories/HW_University/Data_Mining/datasets/insurance.csv\"\n",
    "    columns, types, sample_data, description = get_dataset_info(csv_path)\n",
    "\n",
    "    columns_info = \", \".join(columns)\n",
    "    types_info = \"; \".join([f\"{col}: {typ}\" for col, typ in types.items()])\n",
    "    sample_data_info = \"; \".join(\n",
    "        [f\"{col}: {vals[:5]}\" for col, vals in sample_data.items()])\n",
    "    description_info = \"; \".join(\n",
    "        [f\"{col}: {desc}\" for col, desc in description.items()])\n",
    "\n",
    "    with open(\"generated_code.py\", \"r\") as file:\n",
    "        initial_code = file.read()\n",
    "\n",
    "    success, output = main_part2()\n",
    "\n",
    "    if not success:\n",
    "        request = (\n",
    "            f\"Fix the following code and its errors:\\n{initial_code}\\nError:\\n{output}. \"\n",
    "            f\"The dataset has the following columns: {columns_info}. \"\n",
    "            f\"Data types: {types_info}. Sample data (first 5 rows): {sample_data_info}. Description: {description_info}.\"\n",
    "        )\n",
    "        generated_code = generate_code(request)\n",
    "        corrected_code = clean_and_correct_code(\n",
    "            generated_code, f\"'{csv_path}'\")\n",
    "\n",
    "        validated_code_filename = \"validated_generated_code.py\"\n",
    "        with open(validated_code_filename, \"w\") as file:\n",
    "            file.write(corrected_code)\n",
    "\n",
    "        print(f\"Validated code saved to {validated_code_filename}\")\n",
    "    else:\n",
    "        print(\"No need to fix the code, it runs successfully.\")\n",
    "\n",
    "\n",
    "if __name__ == \"__main__\":\n",
    "    main_part3()"
   ]
  },
  {
   "cell_type": "code",
   "execution_count": null,
   "metadata": {},
   "outputs": [],
   "source": []
  }
 ],
 "metadata": {
  "kernelspec": {
   "display_name": "thesis",
   "language": "python",
   "name": "python3"
  },
  "language_info": {
   "codemirror_mode": {
    "name": "ipython",
    "version": 3
   },
   "file_extension": ".py",
   "mimetype": "text/x-python",
   "name": "python",
   "nbconvert_exporter": "python",
   "pygments_lexer": "ipython3",
   "version": "3.10.13"
  }
 },
 "nbformat": 4,
 "nbformat_minor": 2
}
