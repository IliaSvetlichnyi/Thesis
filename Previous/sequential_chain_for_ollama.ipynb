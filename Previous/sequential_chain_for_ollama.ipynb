{
 "cells": [
  {
   "cell_type": "code",
   "execution_count": 1,
   "metadata": {},
   "outputs": [],
   "source": [
    "from langchain_community.llms import Ollama\n",
    "from langchain_core.prompts import ChatPromptTemplate\n",
    "from langchain_core.prompts import HumanMessagePromptTemplate\n",
    "from langchain.agents import Tool\n",
    "from langchain.agents import initialize_agent\n",
    "from langchain.agents import AgentType\n",
    "from langchain.output_parsers import PydanticOutputParser\n",
    "from pydantic import BaseModel, Field\n",
    "import io\n",
    "import sys\n",
    "import os\n",
    "import json\n",
    "import pandas as pd\n",
    "from langchain.chains import LLMChain, SequentialChain"
   ]
  },
  {
   "cell_type": "code",
   "execution_count": 2,
   "metadata": {},
   "outputs": [],
   "source": [
    "model = Ollama(model=\"llama3\")"
   ]
  },
  {
   "cell_type": "code",
   "execution_count": 6,
   "metadata": {},
   "outputs": [],
   "source": [
    "template_1 = \"Generate a code for reading a csv file and show first five rasw of it\"\n",
    "prompt_1 = ChatPromptTemplate.from_template(template_1)\n",
    "chain_1 = LLMChain(\n",
    "    llm=model,\n",
    "    prompt=prompt_1,\n",
    "    output_key=\"code\",\n",
    ")"
   ]
  },
  {
   "cell_type": "code",
   "execution_count": 7,
   "metadata": {},
   "outputs": [],
   "source": [
    "template_2 = \"Execute the generated code\\n{code}\\n{data}\"\n",
    "prompt_2 = ChatPromptTemplate.from_template(template_2)\n",
    "chain_2 = LLMChain(\n",
    "    llm=model,\n",
    "    prompt=prompt_2,\n",
    "    output_key=\"dataset\",\n",
    ")"
   ]
  },
  {
   "cell_type": "code",
   "execution_count": 8,
   "metadata": {},
   "outputs": [],
   "source": [
    "seq_chain = SequentialChain(\n",
    "    chains=[chain_1, chain_2],\n",
    "    input_variables=['data'],\n",
    "    output_variables=['code', 'dataset'],\n",
    "    verbose=True\n",
    ")"
   ]
  },
  {
   "cell_type": "code",
   "execution_count": 9,
   "metadata": {},
   "outputs": [],
   "source": [
    "data = \"/Users/ilya/Desktop/GitHub_Repositories/HW_University/Data_Mining/datasets/Iris.csv\""
   ]
  },
  {
   "cell_type": "code",
   "execution_count": 10,
   "metadata": {},
   "outputs": [
    {
     "name": "stderr",
     "output_type": "stream",
     "text": [
      "/Users/ilya/miniconda3/envs/thesis/lib/python3.10/site-packages/langchain_core/_api/deprecation.py:117: LangChainDeprecationWarning: The function `__call__` was deprecated in LangChain 0.1.0 and will be removed in 0.2.0. Use invoke instead.\n",
      "  warn_deprecated(\n"
     ]
    },
    {
     "name": "stdout",
     "output_type": "stream",
     "text": [
      "\n",
      "\n",
      "\u001b[1m> Entering new SequentialChain chain...\u001b[0m\n",
      "\n",
      "\u001b[1m> Finished chain.\u001b[0m\n",
      "<class 'dict'>\n",
      "<built-in method keys of dict object at 0x16fb565c0>\n",
      "----------------------------------------\n",
      "Here's the generated code:\n",
      "```\n",
      "import pandas as pd\n",
      "\n",
      "# Read the Iris.csv file\n",
      "df = pd.read_csv('/Users/ilya/Desktop/GitHub_Repositories/HW_University/Data_Mining/datasets/Iris.csv')\n",
      "\n",
      "# Display the first 5 rows\n",
      "print(df.head())\n",
      "```\n",
      "\n",
      "To execute this code, simply copy and paste it into your Python environment. Make sure you have the `pandas` library installed (`pip install pandas`). Then, replace `'Iris.csv'` with the actual file name and path of your CSV file if it's different from what's provided in the code.\n",
      "\n",
      "Once executed, the code will read the specified CSV file into a Pandas DataFrame object called `df`. It will then print the first 5 rows of the DataFrame using the `head()` method.\n"
     ]
    }
   ],
   "source": [
    "results = seq_chain(data)\n",
    "\n",
    "print(type(results))\n",
    "print(results.keys)\n",
    "print(\"--\"*20)\n",
    "print(results['dataset'])"
   ]
  }
 ],
 "metadata": {
  "kernelspec": {
   "display_name": "thesis",
   "language": "python",
   "name": "python3"
  },
  "language_info": {
   "codemirror_mode": {
    "name": "ipython",
    "version": 3
   },
   "file_extension": ".py",
   "mimetype": "text/x-python",
   "name": "python",
   "nbconvert_exporter": "python",
   "pygments_lexer": "ipython3",
   "version": "3.10.13"
  }
 },
 "nbformat": 4,
 "nbformat_minor": 2
}
