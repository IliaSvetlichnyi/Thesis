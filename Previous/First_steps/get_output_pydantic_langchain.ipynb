{
 "cells": [
  {
   "cell_type": "code",
   "execution_count": 8,
   "metadata": {},
   "outputs": [
    {
     "name": "stdout",
     "output_type": "stream",
     "text": [
      "results_values: values=[{'player_name': 'LeBron James', 'nationality': 'United States', 'team_name': 'Los Angeles Lakers'}, {'player_name': 'Giannis Antetokounmpo', 'nationality': 'Greece', 'team_name': 'Milwaukee Bucks'}, {'player_name': 'Luka Doncic', 'nationality': 'Slovenia', 'team_name': 'Dallas Mavericks'}, {'player_name': 'Kevin Durant', 'nationality': 'United States', 'team_name': 'Brooklyn Nets'}, {'player_name': 'Nikola Jokic', 'nationality': 'Serbia', 'team_name': 'Denver Nuggets'}, {'player_name': 'Stephen Curry', 'nationality': 'United States', 'team_name': 'Golden State Warriors'}, {'player_name': 'Joel Embiid', 'nationality': 'Cameroon', 'team_name': 'Philadelphia 76ers'}, {'player_name': 'Kawhi Leonard', 'nationality': 'United States', 'team_name': 'LA Clippers'}, {'player_name': 'Rudy Gobert', 'nationality': 'France', 'team_name': 'Utah Jazz'}, {'player_name': 'Jayson Tatum', 'nationality': 'United States', 'team_name': 'Boston Celtics'}] country='United States', type: <class '__main__.Players'>\n",
      "             player_name    nationality           team_name\n",
      "0           LeBron James  United States  Los Angeles Lakers\n",
      "1  Giannis Antetokounmpo         Greece     Milwaukee Bucks\n",
      "2            Luka Doncic       Slovenia    Dallas Mavericks\n",
      "3           Kevin Durant  United States       Brooklyn Nets\n",
      "4           Nikola Jokic         Serbia      Denver Nuggets\n",
      "(10, 3)\n",
      "The most popular country is United States\n"
     ]
    }
   ],
   "source": [
    "import os\n",
    "\n",
    "from langchain.llms import OpenAI\n",
    "from langchain.chat_models import ChatOpenAI\n",
    "from langchain.prompts.chat import (\n",
    "    ChatPromptTemplate,\n",
    "    HumanMessagePromptTemplate\n",
    ")\n",
    "from langchain.output_parsers import PydanticOutputParser\n",
    "from pydantic import BaseModel, Field\n",
    "\n",
    "api_key = os.environ['OPENAI_API_KEY']\n",
    "\n",
    "model = ChatOpenAI(api_key=api_key, temperature=0)\n",
    "\n",
    "# ---- Define output data types within the class and initialize a parser ----\n",
    "class Players(BaseModel):\n",
    "    values: list = Field(description=\"Python list of dictionaries containing player name and nathionality and a team name\")\n",
    "    country: str = Field(description=\"Give me the most popular country accross the results\")\n",
    "\n",
    "parser = PydanticOutputParser(pydantic_object=Players)\n",
    "\n",
    "# print(parser.get_format_instructions())\n",
    "# ------------------------- Setup the request -------------------------\n",
    "human_promt = HumanMessagePromptTemplate.from_template(\"{request}\\n{format_instructions}\")\n",
    "chat_prompt = ChatPromptTemplate.from_messages([human_promt]) # uses human_promt template to make request to a llm\n",
    "\n",
    "request = chat_prompt.format_prompt(\n",
    "    request=\"Give me facts about 100 NBA players around the world\",\n",
    "    format_instructions=parser.get_format_instructions()\n",
    ").to_messages()\n",
    "\n",
    "##  How do we want to take the results from LLM\n",
    "# it's like predict = model(X_test)\n",
    "results = model(request, temperature=0)\n",
    "\n",
    "# Here we parse results from LLM\n",
    "results_values = parser.parse(results.content)\n",
    "\n",
    "print(f'results_values: {results_values}, type: {type(results_values)}')\n",
    "\n",
    "# ------------------------- Setup the results -------------------------\n",
    "import pandas as pd\n",
    "\n",
    "results_df = pd.DataFrame(results_values.values)\n",
    "\n",
    "print(results_df.head(5))\n",
    "print(results_df.shape)\n",
    "\n",
    "print(f'The most popular country is {results_values.country}')"
   ]
  },
  {
   "cell_type": "code",
   "execution_count": 9,
   "metadata": {},
   "outputs": [
    {
     "data": {
      "text/html": [
       "<div>\n",
       "<style scoped>\n",
       "    .dataframe tbody tr th:only-of-type {\n",
       "        vertical-align: middle;\n",
       "    }\n",
       "\n",
       "    .dataframe tbody tr th {\n",
       "        vertical-align: top;\n",
       "    }\n",
       "\n",
       "    .dataframe thead th {\n",
       "        text-align: right;\n",
       "    }\n",
       "</style>\n",
       "<table border=\"1\" class=\"dataframe\">\n",
       "  <thead>\n",
       "    <tr style=\"text-align: right;\">\n",
       "      <th></th>\n",
       "      <th>player_name</th>\n",
       "      <th>nationality</th>\n",
       "      <th>team_name</th>\n",
       "    </tr>\n",
       "  </thead>\n",
       "  <tbody>\n",
       "    <tr>\n",
       "      <th>0</th>\n",
       "      <td>LeBron James</td>\n",
       "      <td>United States</td>\n",
       "      <td>Los Angeles Lakers</td>\n",
       "    </tr>\n",
       "    <tr>\n",
       "      <th>1</th>\n",
       "      <td>Giannis Antetokounmpo</td>\n",
       "      <td>Greece</td>\n",
       "      <td>Milwaukee Bucks</td>\n",
       "    </tr>\n",
       "    <tr>\n",
       "      <th>2</th>\n",
       "      <td>Luka Doncic</td>\n",
       "      <td>Slovenia</td>\n",
       "      <td>Dallas Mavericks</td>\n",
       "    </tr>\n",
       "    <tr>\n",
       "      <th>3</th>\n",
       "      <td>Kevin Durant</td>\n",
       "      <td>United States</td>\n",
       "      <td>Brooklyn Nets</td>\n",
       "    </tr>\n",
       "    <tr>\n",
       "      <th>4</th>\n",
       "      <td>Nikola Jokic</td>\n",
       "      <td>Serbia</td>\n",
       "      <td>Denver Nuggets</td>\n",
       "    </tr>\n",
       "  </tbody>\n",
       "</table>\n",
       "</div>"
      ],
      "text/plain": [
       "             player_name    nationality           team_name\n",
       "0           LeBron James  United States  Los Angeles Lakers\n",
       "1  Giannis Antetokounmpo         Greece     Milwaukee Bucks\n",
       "2            Luka Doncic       Slovenia    Dallas Mavericks\n",
       "3           Kevin Durant  United States       Brooklyn Nets\n",
       "4           Nikola Jokic         Serbia      Denver Nuggets"
      ]
     },
     "execution_count": 9,
     "metadata": {},
     "output_type": "execute_result"
    }
   ],
   "source": [
    "results_df.head()"
   ]
  },
  {
   "cell_type": "code",
   "execution_count": 12,
   "metadata": {},
   "outputs": [
    {
     "data": {
      "text/plain": [
       "[{'player_name': 'LeBron James',\n",
       "  'nationality': 'United States',\n",
       "  'team_name': 'Los Angeles Lakers'},\n",
       " {'player_name': 'Giannis Antetokounmpo',\n",
       "  'nationality': 'Greece',\n",
       "  'team_name': 'Milwaukee Bucks'},\n",
       " {'player_name': 'Luka Doncic',\n",
       "  'nationality': 'Slovenia',\n",
       "  'team_name': 'Dallas Mavericks'},\n",
       " {'player_name': 'Kevin Durant',\n",
       "  'nationality': 'United States',\n",
       "  'team_name': 'Brooklyn Nets'},\n",
       " {'player_name': 'Nikola Jokic',\n",
       "  'nationality': 'Serbia',\n",
       "  'team_name': 'Denver Nuggets'},\n",
       " {'player_name': 'Stephen Curry',\n",
       "  'nationality': 'United States',\n",
       "  'team_name': 'Golden State Warriors'},\n",
       " {'player_name': 'Joel Embiid',\n",
       "  'nationality': 'Cameroon',\n",
       "  'team_name': 'Philadelphia 76ers'},\n",
       " {'player_name': 'Kawhi Leonard',\n",
       "  'nationality': 'United States',\n",
       "  'team_name': 'LA Clippers'},\n",
       " {'player_name': 'Rudy Gobert',\n",
       "  'nationality': 'France',\n",
       "  'team_name': 'Utah Jazz'},\n",
       " {'player_name': 'Jayson Tatum',\n",
       "  'nationality': 'United States',\n",
       "  'team_name': 'Boston Celtics'}]"
      ]
     },
     "execution_count": 12,
     "metadata": {},
     "output_type": "execute_result"
    }
   ],
   "source": [
    "results_values.values"
   ]
  },
  {
   "cell_type": "code",
   "execution_count": null,
   "metadata": {},
   "outputs": [],
   "source": []
  }
 ],
 "metadata": {
  "kernelspec": {
   "display_name": "thesis",
   "language": "python",
   "name": "python3"
  },
  "language_info": {
   "codemirror_mode": {
    "name": "ipython",
    "version": 3
   },
   "file_extension": ".py",
   "mimetype": "text/x-python",
   "name": "python",
   "nbconvert_exporter": "python",
   "pygments_lexer": "ipython3",
   "version": "3.10.13"
  }
 },
 "nbformat": 4,
 "nbformat_minor": 2
}
