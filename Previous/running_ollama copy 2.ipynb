{
 "cells": [
  {
   "cell_type": "code",
   "execution_count": 38,
   "metadata": {},
   "outputs": [],
   "source": [
    "from langchain_community.llms import Ollama\n",
    "from langchain_core.prompts import ChatPromptTemplate\n",
    "from langchain_core.prompts import HumanMessagePromptTemplate\n",
    "from langchain.agents import Tool\n",
    "from langchain.agents import initialize_agent\n",
    "from langchain.agents import AgentType\n",
    "from langchain.output_parsers import PydanticOutputParser\n",
    "from pydantic import BaseModel, Field\n",
    "import io\n",
    "import sys\n",
    "import os\n",
    "import json\n",
    "import pandas as pd"
   ]
  },
  {
   "cell_type": "code",
   "execution_count": 60,
   "metadata": {},
   "outputs": [],
   "source": [
    "class CodeOutput(BaseModel):\n",
    "    # code: str = Field(description=\"The Python code to execute\")\n",
    "    output: str = Field(description=\"The output of the executed code\")\n",
    "\n",
    "\n",
    "output_parser = PydanticOutputParser(pydantic_object=CodeOutput)\n",
    "\n",
    "human_promt = HumanMessagePromptTemplate.from_template(\n",
    "    \"{request}\\n{format_instructions}\")\n",
    "\n",
    "chat_prompt = ChatPromptTemplate.from_messages([\n",
    "    (\"system\", \"You are a data scientist with 20 years of experience. You know everything about ML code writing. Write the code without comments, just pure code\"),\n",
    "    human_promt\n",
    "])\n",
    "\n",
    "model = Ollama(model=\"llama3\")"
   ]
  },
  {
   "cell_type": "code",
   "execution_count": 61,
   "metadata": {},
   "outputs": [],
   "source": [
    "def execute_code(code):\n",
    "    old_stdout = sys.stdout\n",
    "    sys.stdout = buffer = io.StringIO()\n",
    "\n",
    "    try:\n",
    "        exec(code)\n",
    "        output = buffer.getvalue()\n",
    "        return output\n",
    "    except Exception as e:\n",
    "        return f\"Error executing code: {e}\"\n",
    "    finally:\n",
    "        sys.stdout = old_stdout"
   ]
  },
  {
   "cell_type": "code",
   "execution_count": 62,
   "metadata": {},
   "outputs": [],
   "source": [
    "execute_code_tool = Tool(\n",
    "    name=\"execute_code\",\n",
    "    func=execute_code,\n",
    "    description=\"Useful for executing Python code.\",\n",
    "    handle_parsing_errors=True\n",
    ")"
   ]
  },
  {
   "cell_type": "code",
   "execution_count": 63,
   "metadata": {},
   "outputs": [],
   "source": [
    "agent = initialize_agent(\n",
    "    [execute_code_tool],\n",
    "    model,\n",
    "    agent=AgentType.ZERO_SHOT_REACT_DESCRIPTION,\n",
    "    handle_parsing_errors=True\n",
    ")"
   ]
  },
  {
   "cell_type": "code",
   "execution_count": 64,
   "metadata": {},
   "outputs": [
    {
     "name": "stdout",
     "output_type": "stream",
     "text": [
      "{'input': [SystemMessage(content='You are a data scientist with 20 years of experience. You know everything about ML code writing. Write the code without comments, just pure code'), HumanMessage(content='Write a Python code to read the CSV using pandas file located at \\'/Users/ilya/Desktop/GitHub_Repositories/HW_University/Data_Mining/datasets/Iris.csv\\' and display the first 5 rows of the data. Execute the code and return the output.\\nThe output should be formatted as a JSON instance that conforms to the JSON schema below.\\n\\nAs an example, for the schema {\"properties\": {\"foo\": {\"title\": \"Foo\", \"description\": \"a list of strings\", \"type\": \"array\", \"items\": {\"type\": \"string\"}}}, \"required\": [\"foo\"]}\\nthe object {\"foo\": [\"bar\", \"baz\"]} is a well-formatted instance of the schema. The object {\"properties\": {\"foo\": [\"bar\", \"baz\"]}} is not well-formatted.\\n\\nHere is the output schema:\\n```\\n{\"properties\": {\"output\": {\"description\": \"The output of the executed code\", \"title\": \"Output\", \"type\": \"string\"}}, \"required\": [\"output\"]}\\n```')], 'output': '** The output is a JSON instance that conforms to the given schema.\\n\\nLet me know if this is what you were looking for!'}\n"
     ]
    }
   ],
   "source": [
    "task = \"Write a Python code to read the CSV using pandas file located at '/Users/ilya/Desktop/GitHub_Repositories/HW_University/Data_Mining/datasets/Iris.csv' and display the first 5 rows of the data. Execute the code and return the output.\"\n",
    "\n",
    "request = chat_prompt.format_prompt(\n",
    "    request=task,\n",
    "    format_instructions=output_parser.get_format_instructions()\n",
    ").to_messages()\n",
    "\n",
    "results = agent.invoke(request)\n",
    "print(results)"
   ]
  },
  {
   "cell_type": "code",
   "execution_count": 65,
   "metadata": {},
   "outputs": [
    {
     "data": {
      "text/plain": [
       "'** The output is a JSON instance that conforms to the given schema.\\n\\nLet me know if this is what you were looking for!'"
      ]
     },
     "execution_count": 65,
     "metadata": {},
     "output_type": "execute_result"
    }
   ],
   "source": [
    "results['output']"
   ]
  },
  {
   "cell_type": "code",
   "execution_count": 39,
   "metadata": {},
   "outputs": [
    {
     "name": "stdout",
     "output_type": "stream",
     "text": [
      "Error parsing or executing the code: Invalid json output: ```\n",
      "{\n",
      "  \"properties\": {\n",
      "    \"code\": \"\"\"import pandas as pd\n",
      "iris_data = pd.read_csv('/Users/ilya/Desktop/GitHub_Repositories/HW_University/Data_Mining/datasets/Iris.csv')\n",
      "output = iris_data.head().to_json(orient='records')\"\"\",\n",
      "    \"output\": \"{\\\"data\\\":[{\\\"SepalLength\\\":6.4,\\\"SepalWidth\\\":3.2,\\\"PetalLength\\\":5.3,\\\"PetalWidth\\\":1.7},{\\\"SepalLength\\\":5.1,\\\"SepalWidth\\\":3.5,\\\"PetalLength\\\":1.4,\\\"PetalWidth\\\":0.2},{\\\"SepalLength\\\":5.7,\\\"SepalWidth\\\":4.4,\\\"PetalLength\\\":5.5,\\\"PetalWidth\\\":2.3},{\\\"SepalLength\\\":6.3\\\",\\\"SepalWidth\\\":3.4\\\",\\\"PetalLength\\\":5.7\\\",\\\"PetalWidth\\\":1.8},{\\\"SepalLength\\\":4.4\\\",\\\"SepalWidth\\\":2.9\\\",\\\"PetalLength\\\":3.9\\\",\\\"PetalWidth\\\":1.0}]}\"\n",
      "  }\n",
      "}\n",
      "```\n",
      "Note: The output is a JSON string representing the first 5 rows of the Iris dataset.\n"
     ]
    }
   ],
   "source": [
    "try:\n",
    "    parsed_output = output_parser.parse(results['output'])\n",
    "    print(\"Parsed output:\")\n",
    "    print(parsed_output)\n",
    "\n",
    "    print(\"Executing the code:\")\n",
    "    output = execute_code(parsed_output.code)\n",
    "\n",
    "    # Parse the JSON string from the output\n",
    "    output_json = json.loads(parsed_output.output)\n",
    "\n",
    "    # Print the output in a readable format\n",
    "    print(\"First 5 rows of the Iris dataset:\")\n",
    "    print(pd.DataFrame(output_json['data']).head())\n",
    "except Exception as e:\n",
    "    print(f\"Error parsing or executing the code: {e}\")"
   ]
  },
  {
   "cell_type": "code",
   "execution_count": null,
   "metadata": {},
   "outputs": [],
   "source": []
  }
 ],
 "metadata": {
  "kernelspec": {
   "display_name": "thesis",
   "language": "python",
   "name": "python3"
  },
  "language_info": {
   "codemirror_mode": {
    "name": "ipython",
    "version": 3
   },
   "file_extension": ".py",
   "mimetype": "text/x-python",
   "name": "python",
   "nbconvert_exporter": "python",
   "pygments_lexer": "ipython3",
   "version": "3.10.13"
  }
 },
 "nbformat": 4,
 "nbformat_minor": 2
}
