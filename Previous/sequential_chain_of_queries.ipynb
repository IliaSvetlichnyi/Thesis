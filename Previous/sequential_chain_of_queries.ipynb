{
 "cells": [
  {
   "cell_type": "code",
   "execution_count": 9,
   "metadata": {},
   "outputs": [
    {
     "name": "stdout",
     "output_type": "stream",
     "text": [
      "\n",
      "\n",
      "\u001b[1m> Entering new SequentialChain chain...\u001b[0m\n",
      "\n",
      "\u001b[1m> Finished chain.\u001b[0m\n",
      "<class 'dict'>\n",
      "<built-in method keys of dict object at 0x15ca9b500>\n",
      "----------------------------------------\n",
      "Personalized Plan for John:\n",
      "\n",
      "1. Attention to Detail:\n",
      "- Provide additional training on order processing and invoicing procedures to ensure John fully understands the correct processes.\n",
      "- Implement a double-check system where John's work is reviewed by a colleague before being finalized.\n",
      "- Set up regular quality control checks to monitor John's accuracy and address any errors promptly.\n",
      "\n",
      "2. Time Management:\n",
      "- Work with John to create a daily or weekly task list with clear deadlines and priorities.\n",
      "- Provide time management training or resources to help John better manage his workload.\n",
      "- Encourage John to ask for help or delegate tasks when needed to avoid missing deadlines.\n",
      "\n",
      "3. Teamwork Skills:\n",
      "- Foster a collaborative work environment by encouraging team meetings, brainstorming sessions, and open communication channels.\n",
      "- Assign group projects or tasks that require teamwork to help John develop his collaboration skills.\n",
      "- Provide feedback and coaching on effective communication and teamwork behaviors.\n",
      "\n",
      "4. Follow-up:\n",
      "- Implement a follow-up schedule or CRM system to track leads and client interactions, ensuring timely and consistent follow-ups.\n",
      "- Provide training on effective follow-up techniques and strategies for maintaining client relationships.\n",
      "- Set goals and targets for follow-up activities to keep John accountable for his actions.\n",
      "\n",
      "5. Feedback:\n",
      "- Schedule regular feedback sessions to discuss John's performance, address any concerns, and provide constructive feedback for improvement.\n",
      "- Encourage John to actively listen to feedback, ask clarifying questions, and take proactive steps to address areas of improvement.\n",
      "- Offer support and resources for professional development, such as additional training or mentorship opportunities.\n",
      "\n",
      "Overall, it is important to provide continuous support, guidance, and encouragement to help John improve his performance and reach his full potential. By addressing his key weaknesses and providing the necessary tools and resources, John can develop the skills and behaviors needed to excel in his role.\n"
     ]
    }
   ],
   "source": [
    "import os\n",
    "from langchain.chat_models import ChatOpenAI\n",
    "from langchain.prompts.chat import ChatPromptTemplate\n",
    "from langchain.chains import LLMChain, SequentialChain\n",
    "\n",
    "api_key = os.environ['OPENAI_API_KEY']\n",
    "\n",
    "llm = ChatOpenAI(api_key=api_key)\n",
    "\n",
    "# -------------- Chains --------------\n",
    "template_1 = \"Give a summary of this employee's performance review\\n{review}\"\n",
    "prompt_1 = ChatPromptTemplate.from_template(template_1)\n",
    "chain_1 = LLMChain(\n",
    "    llm=llm,\n",
    "    prompt=prompt_1,\n",
    "    output_key=\"review_summary\"\n",
    ")\n",
    "\n",
    "template_2 = \"Identify the key weeknesses in this employee's performance review\\n{review_summary}\"\n",
    "prompt_2 = ChatPromptTemplate.from_template(template_2)\n",
    "chain_2 = LLMChain(\n",
    "    llm=llm,\n",
    "    prompt=prompt_2,\n",
    "    output_key=\"weeknesses\"\n",
    ")\n",
    "\n",
    "template_3 = \"Create a personalized plan to help this employee improve their performance\\n{weeknesses}\"\n",
    "prompt_3 = ChatPromptTemplate.from_template(template_3)\n",
    "chain_3 = LLMChain(\n",
    "    llm=llm,\n",
    "    prompt=prompt_3,\n",
    "    output_key=\"final_plan\"\n",
    ")\n",
    "# -------------- Build a SequentialChain --------------\n",
    "seq_chain = SequentialChain(\n",
    "    chains=[chain_1, chain_2, chain_3],\n",
    "    input_variables=['review'],\n",
    "    output_variables=['review_summary', 'weeknesses', 'final_plan'],\n",
    "    verbose=True\n",
    ")\n",
    "\n",
    "# -------------- Read Employee Review --------------\n",
    "with open('employee_review.txt') as f:\n",
    "    employee_review = f.readline()\n",
    "\n",
    "# -------------- Get the results (recommentadion plan) --------------\n",
    "results = seq_chain(employee_review)\n",
    "\n",
    "print(type(results))\n",
    "print(results.keys)\n",
    "print(\"--\"*20)\n",
    "print(results['final_plan'])"
   ]
  },
  {
   "cell_type": "code",
   "execution_count": 11,
   "metadata": {},
   "outputs": [
    {
     "name": "stdout",
     "output_type": "stream",
     "text": [
      "Personalized Plan for John:\n",
      "\n",
      "1. Attention to Detail:\n",
      "- Provide additional training on order processing and invoicing procedures to ensure John fully understands the correct processes.\n",
      "- Implement a double-check system where John's work is reviewed by a colleague before being finalized.\n",
      "- Set up regular quality control checks to monitor John's accuracy and address any errors promptly.\n",
      "\n",
      "2. Time Management:\n",
      "- Work with John to create a daily or weekly task list with clear deadlines and priorities.\n",
      "- Provide time management training or resources to help John better manage his workload.\n",
      "- Encourage John to ask for help or delegate tasks when needed to avoid missing deadlines.\n",
      "\n",
      "3. Teamwork Skills:\n",
      "- Foster a collaborative work environment by encouraging team meetings, brainstorming sessions, and open communication channels.\n",
      "- Assign group projects or tasks that require teamwork to help John develop his collaboration skills.\n",
      "- Provide feedback and coaching on effective communication and teamwork behaviors.\n",
      "\n",
      "4. Follow-up:\n",
      "- Implement a follow-up schedule or CRM system to track leads and client interactions, ensuring timely and consistent follow-ups.\n",
      "- Provide training on effective follow-up techniques and strategies for maintaining client relationships.\n",
      "- Set goals and targets for follow-up activities to keep John accountable for his actions.\n",
      "\n",
      "5. Feedback:\n",
      "- Schedule regular feedback sessions to discuss John's performance, address any concerns, and provide constructive feedback for improvement.\n",
      "- Encourage John to actively listen to feedback, ask clarifying questions, and take proactive steps to address areas of improvement.\n",
      "- Offer support and resources for professional development, such as additional training or mentorship opportunities.\n",
      "\n",
      "Overall, it is important to provide continuous support, guidance, and encouragement to help John improve his performance and reach his full potential. By addressing his key weaknesses and providing the necessary tools and resources, John can develop the skills and behaviors needed to excel in his role.\n"
     ]
    }
   ],
   "source": [
    "print(results['final_plan'])"
   ]
  },
  {
   "cell_type": "code",
   "execution_count": 12,
   "metadata": {},
   "outputs": [
    {
     "name": "stdout",
     "output_type": "stream",
     "text": [
      "Name: John Smith\n",
      "Position: Sales Associate\n",
      "Department: Sales\n",
      "Review Period: January 1, 2021 - December 31, 2021\n",
      "\n",
      "Summary:\n",
      "John Smith has been a valuable member of the sales team this year. He consistently met and exceeded his sales targets, demonstrating strong product knowledge and excellent customer service skills. John has shown a high level of initiative and has actively sought out new opportunities to grow the business. He has effectively managed client relationships and has been able to close deals with key accounts. John's strong work ethic and positive attitude have been a great asset to the team. Overall, John's performance has been outstanding, and he is a key contributor to the success of the sales department.\n"
     ]
    }
   ],
   "source": [
    "print(results['review_summary'])"
   ]
  },
  {
   "cell_type": "code",
   "execution_count": null,
   "metadata": {},
   "outputs": [],
   "source": []
  }
 ],
 "metadata": {
  "kernelspec": {
   "display_name": "thesis",
   "language": "python",
   "name": "python3"
  },
  "language_info": {
   "codemirror_mode": {
    "name": "ipython",
    "version": 3
   },
   "file_extension": ".py",
   "mimetype": "text/x-python",
   "name": "python",
   "nbconvert_exporter": "python",
   "pygments_lexer": "ipython3",
   "version": "3.1.-1"
  }
 },
 "nbformat": 4,
 "nbformat_minor": 2
}
