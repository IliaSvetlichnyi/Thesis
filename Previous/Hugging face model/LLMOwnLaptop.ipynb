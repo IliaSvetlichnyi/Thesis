{
 "cells": [
  {
   "cell_type": "code",
   "execution_count": null,
   "id": "5eba955c-10f9-435a-8f5c-a4f3148214f6",
   "metadata": {
    "execution": {
     "iopub.execute_input": "2023-07-31T21:47:04.712381Z",
     "iopub.status.busy": "2023-07-31T21:47:04.711940Z",
     "iopub.status.idle": "2023-07-31T21:47:04.716609Z",
     "shell.execute_reply": "2023-07-31T21:47:04.714945Z",
     "shell.execute_reply.started": "2023-07-31T21:47:04.712355Z"
    }
   },
   "outputs": [],
   "source": [
    "import os\n",
    "from huggingface_hub import hf_hub_download\n",
    "from dotenv import load_dotenv"
   ]
  },
  {
   "cell_type": "code",
   "execution_count": null,
   "id": "e1769883-5d03-45a6-89a4-53d97a2b31cb",
   "metadata": {
    "execution": {
     "iopub.execute_input": "2023-07-31T21:47:11.801528Z",
     "iopub.status.busy": "2023-07-31T21:47:11.801087Z",
     "iopub.status.idle": "2023-07-31T21:47:11.806484Z",
     "shell.execute_reply": "2023-07-31T21:47:11.805533Z",
     "shell.execute_reply.started": "2023-07-31T21:47:11.801503Z"
    }
   },
   "outputs": [],
   "source": [
    "# Load environment variables from .env file\n",
    "load_dotenv()\n",
    "\n",
    "HUGGING_FACE_API_KEY = os.environ.get(\"HUGGING_FACE_API_KEY\")"
   ]
  },
  {
   "cell_type": "code",
   "execution_count": null,
   "id": "f5d4a3cf-3aef-48a2-9d9c-c0e6f47b8ae9",
   "metadata": {
    "execution": {
     "iopub.execute_input": "2023-07-31T21:47:35.032925Z",
     "iopub.status.busy": "2023-07-31T21:47:35.032483Z",
     "iopub.status.idle": "2023-07-31T21:47:35.036911Z",
     "shell.execute_reply": "2023-07-31T21:47:35.035883Z",
     "shell.execute_reply.started": "2023-07-31T21:47:35.032900Z"
    }
   },
   "outputs": [],
   "source": [
    "# model_id = \"Qwen/CodeQwen1.5-7B-Chat\""
   ]
  },
  {
   "cell_type": "code",
   "execution_count": null,
   "id": "684a4a99",
   "metadata": {},
   "outputs": [],
   "source": [
    "model_id = \"Qwen/CodeQwen1.5-7B-Chat\""
   ]
  },
  {
   "cell_type": "markdown",
   "id": "d5b4ad22-2e7d-40d9-978b-b730bd06b141",
   "metadata": {},
   "source": [
    "## Run the LLM\n",
    "Now let's try running the model. But before we do that, let's disable the Wi-Fi."
   ]
  },
  {
   "cell_type": "code",
   "execution_count": null,
   "id": "ba850f47-09e6-4b3d-9042-e4df427b0f09",
   "metadata": {
    "execution": {
     "iopub.execute_input": "2023-07-31T21:49:12.517620Z",
     "iopub.status.busy": "2023-07-31T21:49:12.517270Z",
     "iopub.status.idle": "2023-07-31T21:49:40.777536Z",
     "shell.execute_reply": "2023-07-31T21:49:40.777150Z",
     "shell.execute_reply.started": "2023-07-31T21:49:12.517594Z"
    }
   },
   "outputs": [],
   "source": [
    "from transformers import AutoTokenizer, AutoModelForCausalLM, pipeline\n",
    "\n",
    "tokenizer = AutoTokenizer.from_pretrained(model_id)\n",
    "model = AutoModelForCausalLM.from_pretrained(model_id)\n",
    "\n",
    "pipeline = pipeline(\"text-generation\", model=model,\n",
    "                    tokenizer=tokenizer, max_length=100)"
   ]
  },
  {
   "cell_type": "code",
   "execution_count": null,
   "id": "bbfc9654",
   "metadata": {},
   "outputs": [],
   "source": [
    "pipeline(\"Hello, how are you?\")"
   ]
  },
  {
   "cell_type": "code",
   "execution_count": null,
   "id": "ca79ce5d-2e44-446c-a899-d9ecc4b77caa",
   "metadata": {
    "execution": {
     "iopub.execute_input": "2023-07-31T21:50:28.502177Z",
     "iopub.status.busy": "2023-07-31T21:50:28.501810Z",
     "iopub.status.idle": "2023-07-31T21:50:33.145049Z",
     "shell.execute_reply": "2023-07-31T21:50:33.144699Z",
     "shell.execute_reply.started": "2023-07-31T21:50:28.502152Z"
    }
   },
   "outputs": [],
   "source": [
    "print(pipeline(\"\"\"My name is Mark.\n",
    "I have brothers called David and John and my best friend is Michael.\n",
    "Using only the context above. Do you know if I have a sister?    \n",
    "\"\"\"))"
   ]
  },
  {
   "cell_type": "code",
   "execution_count": null,
   "id": "f1ca9f0b",
   "metadata": {},
   "outputs": [],
   "source": []
  }
 ],
 "metadata": {
  "kernelspec": {
   "display_name": "Python 3 (ipykernel)",
   "language": "python",
   "name": "python3"
  },
  "language_info": {
   "codemirror_mode": {
    "name": "ipython",
    "version": 3
   },
   "file_extension": ".py",
   "mimetype": "text/x-python",
   "name": "python",
   "nbconvert_exporter": "python",
   "pygments_lexer": "ipython3",
   "version": "3.10.13"
  }
 },
 "nbformat": 4,
 "nbformat_minor": 5
}
