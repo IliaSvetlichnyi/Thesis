{
 "cells": [
  {
   "cell_type": "code",
   "execution_count": null,
   "metadata": {},
   "outputs": [
    {
     "name": "stdout",
     "output_type": "stream",
     "text": [
      "Full API response: {'id': 'gen-ozYNqcyY5bbJ7QlbFd91iQ2mq2W1', 'model': 'meta-llama/llama-3-70b-instruct', 'object': 'chat.completion', 'created': 1720940492, 'choices': [{'index': 0, 'message': {'role': 'assistant', 'content': 'Here is a simple Python function that adds two numbers:\\n```\\ndef add_numbers(a, b):\\n    return a + b\\n```\\nThis function takes two arguments, `a` and `b`, and returns their sum.\\n\\nYou can call the function like this:\\n```\\nresult = add_numbers(2, 3)\\nprint(result)  # Output: 5\\n```\\nI hope this helps! Let me know if you have any questions.'}, 'finish_reason': 'stop', 'logprobs': {'tokens': None, 'token_logprobs': None, 'top_logprobs': None, 'text_offset': None}}], 'usage': {'prompt_tokens': 19, 'completion_tokens': 93, 'total_tokens': 112}}\n",
      "Result: Here is a simple Python function that adds two numbers:\n",
      "```\n",
      "def add_numbers(a, b):\n",
      "    return a + b\n",
      "```\n",
      "This function takes two arguments, `a` and `b`, and returns their sum.\n",
      "\n",
      "You can call the function like this:\n",
      "```\n",
      "result = add_numbers(2, 3)\n",
      "print(result)  # Output: 5\n",
      "```\n",
      "I hope this helps! Let me know if you have any questions.\n"
     ]
    }
   ],
   "source": [
    "def openai_chat(request):\n",
    "    headers = {\n",
    "        \"Authorization\": f\"Bearer {api_key}\",\n",
    "        \"Content-Type\": \"application/json\"\n",
    "    }\n",
    "    data = {\n",
    "        \"model\": \"meta-llama/llama-3-70b-instruct\",\n",
    "        \"messages\": [{\"role\": \"user\", \"content\": request}]\n",
    "    }\n",
    "    response = requests.post(f\"{api_url}/chat/completions\", headers=headers, json=data)\n",
    "    \n",
    "    # Log the full response for debugging\n",
    "    response_json = response.json()\n",
    "    print(\"Full API response:\", response_json)\n",
    "    \n",
    "    # Check if 'choices' key exists in the response\n",
    "    if \"choices\" in response_json and response_json[\"choices\"]:\n",
    "        return response_json[\"choices\"][0][\"message\"][\"content\"]\n",
    "    else:\n",
    "        raise ValueError(\"The response does not contain 'choices'. Full response: \" + str(response_json))\n",
    "\n",
    "# Test the function with a sample request to see the full response\n",
    "try:\n",
    "    result = openai_chat(\"Write a Python function that adds two numbers.\")\n",
    "    print(\"Result:\", result)\n",
    "except Exception as e:\n",
    "    print(\"Error:\", e)\n"
   ]
  }
 ],
 "metadata": {
  "kernelspec": {
   "display_name": "thesis",
   "language": "python",
   "name": "python3"
  },
  "language_info": {
   "codemirror_mode": {
    "name": "ipython",
    "version": 3
   },
   "file_extension": ".py",
   "mimetype": "text/x-python",
   "name": "python",
   "nbconvert_exporter": "python",
   "pygments_lexer": "ipython3",
   "version": "3.10.13"
  }
 },
 "nbformat": 4,
 "nbformat_minor": 2
}
